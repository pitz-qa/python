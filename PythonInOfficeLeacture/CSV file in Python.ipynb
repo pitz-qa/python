{
 "cells": [
  {
   "cell_type": "markdown",
   "metadata": {},
   "source": [
    "# How to Read a CSV File"
   ]
  },
  {
   "cell_type": "code",
   "execution_count": 2,
   "metadata": {},
   "outputs": [
    {
     "name": "stdout",
     "output_type": "stream",
     "text": [
      "['Programming language', 'Designed by', 'Appeared', 'Extension']\n",
      "['Python', 'Guido van Rossum', '1991', '.py']\n",
      "['Java', 'James Gosling', '1995', '.java']\n",
      "['C++', 'Bjarne Stroustrup', '1985', '.cpp']\n"
     ]
    }
   ],
   "source": [
    "#import necessary modules\n",
    "import csv\n",
    "with open('/home/piyush/Downloads/data.csv','rt')as f:\n",
    "  data = csv.reader(f)\n",
    "  for row in data:\n",
    "        print(row)"
   ]
  },
  {
   "cell_type": "markdown",
   "metadata": {},
   "source": [
    "# How to Read a CSV as a Dictionary"
   ]
  },
  {
   "cell_type": "code",
   "execution_count": 20,
   "metadata": {},
   "outputs": [
    {
     "name": "stdout",
     "output_type": "stream",
     "text": [
      "{'Programming language': 'Python', 'Designed by': 'Guido van Rossum', 'Appeared': '1991', 'Extension': '.py'}\n",
      "{'Programming language': 'Java', 'Designed by': 'James Gosling', 'Appeared': '1995', 'Extension': '.java'}\n",
      "{'Programming language': 'C++', 'Designed by': 'Bjarne Stroustrup', 'Appeared': '1985', 'Extension': '.cpp'}\n"
     ]
    }
   ],
   "source": [
    "#import necessary modules\n",
    "import csv\n",
    "\n",
    "reader = csv.DictReader(open(\"/home/piyush/Downloads/data.csv\"))\n",
    "for raw in reader:\n",
    "    print(raw)"
   ]
  },
  {
   "cell_type": "markdown",
   "metadata": {},
   "source": [
    "# How to write CSV File"
   ]
  },
  {
   "cell_type": "code",
   "execution_count": 1,
   "metadata": {},
   "outputs": [],
   "source": [
    "#import necessary modules\n",
    "import csv\n",
    "\n",
    "with open('/home/piyush/Downloads/data.csv', mode='w') as file:\n",
    "    writer = csv.writer(file, delimiter=',')\n",
    "\n",
    "    #way to write to csv file\n",
    "    writer.writerow(['Programming language', 'Designed by', 'Appeared', 'Extension'])\n",
    "    writer.writerow(['Python', 'Guido van Rossum', '1991', '.py'])\n",
    "    writer.writerow(['Java', 'James Gosling', '1995', '.java'])\n",
    "    writer.writerow(['C++', 'Bjarne Stroustrup', '1985', '.cpp'])"
   ]
  },
  {
   "cell_type": "markdown",
   "metadata": {},
   "source": [
    "# END_CSV"
   ]
  }
 ],
 "metadata": {
  "kernelspec": {
   "display_name": "Python 3",
   "language": "python",
   "name": "python3"
  },
  "language_info": {
   "codemirror_mode": {
    "name": "ipython",
    "version": 3
   },
   "file_extension": ".py",
   "mimetype": "text/x-python",
   "name": "python",
   "nbconvert_exporter": "python",
   "pygments_lexer": "ipython3",
   "version": "3.8.1"
  }
 },
 "nbformat": 4,
 "nbformat_minor": 2
}
