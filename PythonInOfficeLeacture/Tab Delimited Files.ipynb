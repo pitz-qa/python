{
 "cells": [
  {
   "cell_type": "markdown",
   "metadata": {},
   "source": [
    "# How to open file"
   ]
  },
  {
   "cell_type": "code",
   "execution_count": 25,
   "metadata": {},
   "outputs": [
    {
     "name": "stdout",
     "output_type": "stream",
     "text": [
      "Output of Read function is \n",
      "Trey\tBurke\t23\t1.85\t2013\t79.4\t23.2\n",
      "\n"
     ]
    }
   ],
   "source": [
    "file1 = open('/home/piyush/Downloads/piyush.txt','r+')\n",
    "print (\"Output of Read function is \")\n",
    "print (file1.read())"
   ]
  },
  {
   "cell_type": "markdown",
   "metadata": {},
   "source": [
    "# How to use tab delimited in file"
   ]
  },
  {
   "cell_type": "code",
   "execution_count": 3,
   "metadata": {},
   "outputs": [],
   "source": [
    "with open('/home/piyush/Downloads/piyush.txt', 'a') as players_data:\n",
    "    players_data.write('{}\\t{}\\t{}\\t{}\\t{}\\t{}\\t{}'.format('Trey', 'Burke', '23', '1.85', '2013', '79.4', '23.2'))"
   ]
  },
  {
   "cell_type": "code",
   "execution_count": 28,
   "metadata": {},
   "outputs": [
    {
     "name": "stdout",
     "output_type": "stream",
     "text": [
      "['Trey', 'Burke', '23', '1.85', '2013', '79.4', '23.2']\n"
     ]
    }
   ],
   "source": [
    "with open('/home/piyush/Downloads/piyush.txt', 'r') as my_file:\n",
    "    for line in my_file:\n",
    "        str = line.split()\n",
    "        print(str)"
   ]
  },
  {
   "cell_type": "code",
   "execution_count": null,
   "metadata": {},
   "outputs": [],
   "source": []
  }
 ],
 "metadata": {
  "kernelspec": {
   "display_name": "Python 3",
   "language": "python",
   "name": "python3"
  },
  "language_info": {
   "codemirror_mode": {
    "name": "ipython",
    "version": 3
   },
   "file_extension": ".py",
   "mimetype": "text/x-python",
   "name": "python",
   "nbconvert_exporter": "python",
   "pygments_lexer": "ipython3",
   "version": "3.8.1"
  }
 },
 "nbformat": 4,
 "nbformat_minor": 2
}
